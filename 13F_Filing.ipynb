{
  "nbformat": 4,
  "nbformat_minor": 0,
  "metadata": {
    "kernelspec": {
      "display_name": "Python 3",
      "language": "python",
      "name": "python3"
    },
    "language_info": {
      "codemirror_mode": {
        "name": "ipython",
        "version": 3
      },
      "file_extension": ".py",
      "mimetype": "text/x-python",
      "name": "python",
      "nbconvert_exporter": "python",
      "pygments_lexer": "ipython3",
      "version": "3.7.4"
    },
    "colab": {
      "name": "13F_Filing.ipynb",
      "provenance": [],
      "include_colab_link": true
    },
    "widgets": {
      "application/vnd.jupyter.widget-state+json": {
        "3a203a4dddeb4b8da4cabda1aad42ada": {
          "model_module": "@jupyter-widgets/controls",
          "model_name": "VBoxModel",
          "state": {
            "_view_name": "VBoxView",
            "_dom_classes": [
              "widget-interact"
            ],
            "_model_name": "VBoxModel",
            "_view_module": "@jupyter-widgets/controls",
            "_model_module_version": "1.5.0",
            "_view_count": null,
            "_view_module_version": "1.5.0",
            "box_style": "",
            "layout": "IPY_MODEL_283e3254303441449fe5c6e6ed124333",
            "_model_module": "@jupyter-widgets/controls",
            "children": [
              "IPY_MODEL_ed31bffedd5e47819a59c84cfd191d39",
              "IPY_MODEL_1f2434b2df9446d585d803d1eef18b95"
            ]
          }
        },
        "283e3254303441449fe5c6e6ed124333": {
          "model_module": "@jupyter-widgets/base",
          "model_name": "LayoutModel",
          "state": {
            "_view_name": "LayoutView",
            "grid_template_rows": null,
            "right": null,
            "justify_content": null,
            "_view_module": "@jupyter-widgets/base",
            "overflow": null,
            "_model_module_version": "1.2.0",
            "_view_count": null,
            "flex_flow": null,
            "width": null,
            "min_width": null,
            "border": null,
            "align_items": null,
            "bottom": null,
            "_model_module": "@jupyter-widgets/base",
            "top": null,
            "grid_column": null,
            "overflow_y": null,
            "overflow_x": null,
            "grid_auto_flow": null,
            "grid_area": null,
            "grid_template_columns": null,
            "flex": null,
            "_model_name": "LayoutModel",
            "justify_items": null,
            "grid_row": null,
            "max_height": null,
            "align_content": null,
            "visibility": null,
            "align_self": null,
            "height": null,
            "min_height": null,
            "padding": null,
            "grid_auto_rows": null,
            "grid_gap": null,
            "max_width": null,
            "order": null,
            "_view_module_version": "1.2.0",
            "grid_template_areas": null,
            "object_position": null,
            "object_fit": null,
            "grid_auto_columns": null,
            "margin": null,
            "display": null,
            "left": null
          }
        },
        "ed31bffedd5e47819a59c84cfd191d39": {
          "model_module": "@jupyter-widgets/controls",
          "model_name": "DropdownModel",
          "state": {
            "_options_labels": [
              "Buffett",
              "Mohnish",
              "Seth",
              "Carl",
              "TCI_Chris",
              "Pershing_Ackman",
              "Greenlight_Einhorn",
              "Himalaya_Li_Lu",
              "David_Tepper",
              "Dalio",
              "Guy"
            ],
            "_view_name": "DropdownView",
            "style": "IPY_MODEL_0dce3edc558d419eaca379ae7f2f022e",
            "_dom_classes": [],
            "description": "Guru",
            "_model_name": "DropdownModel",
            "index": 4,
            "_view_module": "@jupyter-widgets/controls",
            "_model_module_version": "1.5.0",
            "_view_count": null,
            "disabled": false,
            "_view_module_version": "1.5.0",
            "description_tooltip": null,
            "_model_module": "@jupyter-widgets/controls",
            "layout": "IPY_MODEL_ffe5f86cf0464ddd8066102bf85e0ea4"
          }
        },
        "1f2434b2df9446d585d803d1eef18b95": {
          "model_module": "@jupyter-widgets/output",
          "model_name": "OutputModel",
          "state": {
            "_view_name": "OutputView",
            "msg_id": "",
            "_dom_classes": [],
            "_model_name": "OutputModel",
            "outputs": [
              {
                "output_type": "pyerr",
                "metadata": {
                  "tags": []
                },
                "ename": "NameError",
                "evalue": "ignored",
                "traceback": [
                  "\u001b[0;31m---------------------------------------------------------------------------\u001b[0m",
                  "\u001b[0;31mNameError\u001b[0m                                 Traceback (most recent call last)",
                  "\u001b[0;32m/usr/local/lib/python3.7/dist-packages/ipywidgets/widgets/interaction.py\u001b[0m in \u001b[0;36mupdate\u001b[0;34m(self, *args)\u001b[0m\n\u001b[1;32m    254\u001b[0m                     \u001b[0mvalue\u001b[0m \u001b[0;34m=\u001b[0m \u001b[0mwidget\u001b[0m\u001b[0;34m.\u001b[0m\u001b[0mget_interact_value\u001b[0m\u001b[0;34m(\u001b[0m\u001b[0;34m)\u001b[0m\u001b[0;34m\u001b[0m\u001b[0;34m\u001b[0m\u001b[0m\n\u001b[1;32m    255\u001b[0m                     \u001b[0mself\u001b[0m\u001b[0;34m.\u001b[0m\u001b[0mkwargs\u001b[0m\u001b[0;34m[\u001b[0m\u001b[0mwidget\u001b[0m\u001b[0;34m.\u001b[0m\u001b[0m_kwarg\u001b[0m\u001b[0;34m]\u001b[0m \u001b[0;34m=\u001b[0m \u001b[0mvalue\u001b[0m\u001b[0;34m\u001b[0m\u001b[0;34m\u001b[0m\u001b[0m\n\u001b[0;32m--> 256\u001b[0;31m                 \u001b[0mself\u001b[0m\u001b[0;34m.\u001b[0m\u001b[0mresult\u001b[0m \u001b[0;34m=\u001b[0m \u001b[0mself\u001b[0m\u001b[0;34m.\u001b[0m\u001b[0mf\u001b[0m\u001b[0;34m(\u001b[0m\u001b[0;34m**\u001b[0m\u001b[0mself\u001b[0m\u001b[0;34m.\u001b[0m\u001b[0mkwargs\u001b[0m\u001b[0;34m)\u001b[0m\u001b[0;34m\u001b[0m\u001b[0;34m\u001b[0m\u001b[0m\n\u001b[0m\u001b[1;32m    257\u001b[0m                 \u001b[0mshow_inline_matplotlib_plots\u001b[0m\u001b[0;34m(\u001b[0m\u001b[0;34m)\u001b[0m\u001b[0;34m\u001b[0m\u001b[0;34m\u001b[0m\u001b[0m\n\u001b[1;32m    258\u001b[0m                 \u001b[0;32mif\u001b[0m \u001b[0mself\u001b[0m\u001b[0;34m.\u001b[0m\u001b[0mauto_display\u001b[0m \u001b[0;32mand\u001b[0m \u001b[0mself\u001b[0m\u001b[0;34m.\u001b[0m\u001b[0mresult\u001b[0m \u001b[0;32mis\u001b[0m \u001b[0;32mnot\u001b[0m \u001b[0;32mNone\u001b[0m\u001b[0;34m:\u001b[0m\u001b[0;34m\u001b[0m\u001b[0;34m\u001b[0m\u001b[0m\n",
                  "\u001b[0;32m<ipython-input-22-59d0d3268c19>\u001b[0m in \u001b[0;36mplot_guru\u001b[0;34m(guru)\u001b[0m\n\u001b[1;32m      3\u001b[0m     \u001b[0mfig\u001b[0m\u001b[0;34m,\u001b[0m \u001b[0max\u001b[0m \u001b[0;34m=\u001b[0m \u001b[0mplt\u001b[0m\u001b[0;34m.\u001b[0m\u001b[0msubplots\u001b[0m\u001b[0;34m(\u001b[0m\u001b[0mfigsize\u001b[0m\u001b[0;34m=\u001b[0m\u001b[0;34m(\u001b[0m\u001b[0;36m10\u001b[0m\u001b[0;34m,\u001b[0m \u001b[0;36m6\u001b[0m\u001b[0;34m)\u001b[0m\u001b[0;34m)\u001b[0m\u001b[0;34m\u001b[0m\u001b[0;34m\u001b[0m\u001b[0m\n\u001b[1;32m      4\u001b[0m \u001b[0;34m\u001b[0m\u001b[0m\n\u001b[0;32m----> 5\u001b[0;31m     \u001b[0max\u001b[0m\u001b[0;34m.\u001b[0m\u001b[0mplot\u001b[0m\u001b[0;34m(\u001b[0m\u001b[0magg\u001b[0m\u001b[0;34m.\u001b[0m\u001b[0mindex\u001b[0m\u001b[0;34m,\u001b[0m \u001b[0magg\u001b[0m\u001b[0;34m[\u001b[0m\u001b[0mguru\u001b[0m\u001b[0;34m]\u001b[0m\u001b[0;34m,\u001b[0m \u001b[0mmarker\u001b[0m\u001b[0;34m=\u001b[0m\u001b[0;34m'o'\u001b[0m\u001b[0;34m)\u001b[0m\u001b[0;34m\u001b[0m\u001b[0;34m\u001b[0m\u001b[0m\n\u001b[0m\u001b[1;32m      6\u001b[0m \u001b[0;34m\u001b[0m\u001b[0m\n\u001b[1;32m      7\u001b[0m     \u001b[0max\u001b[0m\u001b[0;34m.\u001b[0m\u001b[0mset_ylabel\u001b[0m\u001b[0;34m(\u001b[0m\u001b[0;34m'Billions'\u001b[0m\u001b[0;34m,\u001b[0m \u001b[0mfontweight\u001b[0m\u001b[0;34m=\u001b[0m\u001b[0;34m'bold'\u001b[0m\u001b[0;34m)\u001b[0m\u001b[0;34m\u001b[0m\u001b[0;34m\u001b[0m\u001b[0m\n",
                  "\u001b[0;31mNameError\u001b[0m: name 'agg' is not defined"
                ]
              }
            ],
            "_view_module": "@jupyter-widgets/output",
            "_model_module_version": "1.0.0",
            "_view_count": null,
            "_view_module_version": "1.0.0",
            "layout": "IPY_MODEL_baf2eedb85b047709f59b907ed0c187e",
            "_model_module": "@jupyter-widgets/output"
          }
        },
        "0dce3edc558d419eaca379ae7f2f022e": {
          "model_module": "@jupyter-widgets/controls",
          "model_name": "DescriptionStyleModel",
          "state": {
            "_view_name": "StyleView",
            "_model_name": "DescriptionStyleModel",
            "description_width": "",
            "_view_module": "@jupyter-widgets/base",
            "_model_module_version": "1.5.0",
            "_view_count": null,
            "_view_module_version": "1.2.0",
            "_model_module": "@jupyter-widgets/controls"
          }
        },
        "ffe5f86cf0464ddd8066102bf85e0ea4": {
          "model_module": "@jupyter-widgets/base",
          "model_name": "LayoutModel",
          "state": {
            "_view_name": "LayoutView",
            "grid_template_rows": null,
            "right": null,
            "justify_content": null,
            "_view_module": "@jupyter-widgets/base",
            "overflow": null,
            "_model_module_version": "1.2.0",
            "_view_count": null,
            "flex_flow": null,
            "width": null,
            "min_width": null,
            "border": null,
            "align_items": null,
            "bottom": null,
            "_model_module": "@jupyter-widgets/base",
            "top": null,
            "grid_column": null,
            "overflow_y": null,
            "overflow_x": null,
            "grid_auto_flow": null,
            "grid_area": null,
            "grid_template_columns": null,
            "flex": null,
            "_model_name": "LayoutModel",
            "justify_items": null,
            "grid_row": null,
            "max_height": null,
            "align_content": null,
            "visibility": null,
            "align_self": null,
            "height": null,
            "min_height": null,
            "padding": null,
            "grid_auto_rows": null,
            "grid_gap": null,
            "max_width": null,
            "order": null,
            "_view_module_version": "1.2.0",
            "grid_template_areas": null,
            "object_position": null,
            "object_fit": null,
            "grid_auto_columns": null,
            "margin": null,
            "display": null,
            "left": null
          }
        },
        "baf2eedb85b047709f59b907ed0c187e": {
          "model_module": "@jupyter-widgets/base",
          "model_name": "LayoutModel",
          "state": {
            "_view_name": "LayoutView",
            "grid_template_rows": null,
            "right": null,
            "justify_content": null,
            "_view_module": "@jupyter-widgets/base",
            "overflow": null,
            "_model_module_version": "1.2.0",
            "_view_count": null,
            "flex_flow": null,
            "width": null,
            "min_width": null,
            "border": null,
            "align_items": null,
            "bottom": null,
            "_model_module": "@jupyter-widgets/base",
            "top": null,
            "grid_column": null,
            "overflow_y": null,
            "overflow_x": null,
            "grid_auto_flow": null,
            "grid_area": null,
            "grid_template_columns": null,
            "flex": null,
            "_model_name": "LayoutModel",
            "justify_items": null,
            "grid_row": null,
            "max_height": null,
            "align_content": null,
            "visibility": null,
            "align_self": null,
            "height": null,
            "min_height": null,
            "padding": null,
            "grid_auto_rows": null,
            "grid_gap": null,
            "max_width": null,
            "order": null,
            "_view_module_version": "1.2.0",
            "grid_template_areas": null,
            "object_position": null,
            "object_fit": null,
            "grid_auto_columns": null,
            "margin": null,
            "display": null,
            "left": null
          }
        },
        "024efcb463f6474ab547b25f5bc2754a": {
          "model_module": "@jupyter-widgets/controls",
          "model_name": "VBoxModel",
          "state": {
            "_view_name": "VBoxView",
            "_dom_classes": [
              "widget-interact"
            ],
            "_model_name": "VBoxModel",
            "_view_module": "@jupyter-widgets/controls",
            "_model_module_version": "1.5.0",
            "_view_count": null,
            "_view_module_version": "1.5.0",
            "box_style": "",
            "layout": "IPY_MODEL_4d9278ebd66443418a3cbf5f62e4ae58",
            "_model_module": "@jupyter-widgets/controls",
            "children": [
              "IPY_MODEL_778cf8e3232b4acb80db777917aaf166",
              "IPY_MODEL_c38276f989714cbe8d22a7383e7e0b89"
            ]
          }
        },
        "4d9278ebd66443418a3cbf5f62e4ae58": {
          "model_module": "@jupyter-widgets/base",
          "model_name": "LayoutModel",
          "state": {
            "_view_name": "LayoutView",
            "grid_template_rows": null,
            "right": null,
            "justify_content": null,
            "_view_module": "@jupyter-widgets/base",
            "overflow": null,
            "_model_module_version": "1.2.0",
            "_view_count": null,
            "flex_flow": null,
            "width": null,
            "min_width": null,
            "border": null,
            "align_items": null,
            "bottom": null,
            "_model_module": "@jupyter-widgets/base",
            "top": null,
            "grid_column": null,
            "overflow_y": null,
            "overflow_x": null,
            "grid_auto_flow": null,
            "grid_area": null,
            "grid_template_columns": null,
            "flex": null,
            "_model_name": "LayoutModel",
            "justify_items": null,
            "grid_row": null,
            "max_height": null,
            "align_content": null,
            "visibility": null,
            "align_self": null,
            "height": null,
            "min_height": null,
            "padding": null,
            "grid_auto_rows": null,
            "grid_gap": null,
            "max_width": null,
            "order": null,
            "_view_module_version": "1.2.0",
            "grid_template_areas": null,
            "object_position": null,
            "object_fit": null,
            "grid_auto_columns": null,
            "margin": null,
            "display": null,
            "left": null
          }
        },
        "778cf8e3232b4acb80db777917aaf166": {
          "model_module": "@jupyter-widgets/controls",
          "model_name": "DropdownModel",
          "state": {
            "_options_labels": [
              "5",
              "6",
              "7",
              "8",
              "9",
              "10",
              "11",
              "12",
              "13",
              "14",
              "15",
              "16",
              "17",
              "18",
              "19",
              "20",
              "21",
              "22",
              "23",
              "24",
              "25",
              "26",
              "27",
              "28",
              "29",
              "30",
              "31",
              "32",
              "33",
              "34",
              "35",
              "36",
              "37",
              "38",
              "39",
              "40",
              "41",
              "42",
              "43",
              "44",
              "45",
              "46",
              "47",
              "48",
              "49",
              "50"
            ],
            "_view_name": "DropdownView",
            "style": "IPY_MODEL_6f24c10825044e70b32ff4c4132fd70a",
            "_dom_classes": [],
            "description": "num_of_position",
            "_model_name": "DropdownModel",
            "index": 5,
            "_view_module": "@jupyter-widgets/controls",
            "_model_module_version": "1.5.0",
            "_view_count": null,
            "disabled": false,
            "_view_module_version": "1.5.0",
            "description_tooltip": null,
            "_model_module": "@jupyter-widgets/controls",
            "layout": "IPY_MODEL_9666714a4ecf45b8bc38b1095d24bebd"
          }
        },
        "c38276f989714cbe8d22a7383e7e0b89": {
          "model_module": "@jupyter-widgets/output",
          "model_name": "OutputModel",
          "state": {
            "_view_name": "OutputView",
            "msg_id": "",
            "_dom_classes": [],
            "_model_name": "OutputModel",
            "outputs": [
              {
                "output_type": "pyerr",
                "metadata": {
                  "tags": []
                },
                "ename": "ValueError",
                "evalue": "ignored",
                "traceback": [
                  "\u001b[0;31m---------------------------------------------------------------------------\u001b[0m",
                  "\u001b[0;31mValueError\u001b[0m                                Traceback (most recent call last)",
                  "\u001b[0;32m/usr/local/lib/python3.7/dist-packages/ipywidgets/widgets/interaction.py\u001b[0m in \u001b[0;36mupdate\u001b[0;34m(self, *args)\u001b[0m\n\u001b[1;32m    254\u001b[0m                     \u001b[0mvalue\u001b[0m \u001b[0;34m=\u001b[0m \u001b[0mwidget\u001b[0m\u001b[0;34m.\u001b[0m\u001b[0mget_interact_value\u001b[0m\u001b[0;34m(\u001b[0m\u001b[0;34m)\u001b[0m\u001b[0;34m\u001b[0m\u001b[0;34m\u001b[0m\u001b[0m\n\u001b[1;32m    255\u001b[0m                     \u001b[0mself\u001b[0m\u001b[0;34m.\u001b[0m\u001b[0mkwargs\u001b[0m\u001b[0;34m[\u001b[0m\u001b[0mwidget\u001b[0m\u001b[0;34m.\u001b[0m\u001b[0m_kwarg\u001b[0m\u001b[0;34m]\u001b[0m \u001b[0;34m=\u001b[0m \u001b[0mvalue\u001b[0m\u001b[0;34m\u001b[0m\u001b[0;34m\u001b[0m\u001b[0m\n\u001b[0;32m--> 256\u001b[0;31m                 \u001b[0mself\u001b[0m\u001b[0;34m.\u001b[0m\u001b[0mresult\u001b[0m \u001b[0;34m=\u001b[0m \u001b[0mself\u001b[0m\u001b[0;34m.\u001b[0m\u001b[0mf\u001b[0m\u001b[0;34m(\u001b[0m\u001b[0;34m**\u001b[0m\u001b[0mself\u001b[0m\u001b[0;34m.\u001b[0m\u001b[0mkwargs\u001b[0m\u001b[0;34m)\u001b[0m\u001b[0;34m\u001b[0m\u001b[0;34m\u001b[0m\u001b[0m\n\u001b[0m\u001b[1;32m    257\u001b[0m                 \u001b[0mshow_inline_matplotlib_plots\u001b[0m\u001b[0;34m(\u001b[0m\u001b[0;34m)\u001b[0m\u001b[0;34m\u001b[0m\u001b[0;34m\u001b[0m\u001b[0m\n\u001b[1;32m    258\u001b[0m                 \u001b[0;32mif\u001b[0m \u001b[0mself\u001b[0m\u001b[0;34m.\u001b[0m\u001b[0mauto_display\u001b[0m \u001b[0;32mand\u001b[0m \u001b[0mself\u001b[0m\u001b[0;34m.\u001b[0m\u001b[0mresult\u001b[0m \u001b[0;32mis\u001b[0m \u001b[0;32mnot\u001b[0m \u001b[0;32mNone\u001b[0m\u001b[0;34m:\u001b[0m\u001b[0;34m\u001b[0m\u001b[0;34m\u001b[0m\u001b[0m\n",
                  "\u001b[0;32m<ipython-input-23-61c00a713d14>\u001b[0m in \u001b[0;36m<lambda>\u001b[0;34m(num_of_position)\u001b[0m\n\u001b[1;32m     22\u001b[0m \u001b[0;34m\u001b[0m\u001b[0m\n\u001b[1;32m     23\u001b[0m \u001b[0mprint\u001b[0m\u001b[0;34m(\u001b[0m\u001b[0mcolor\u001b[0m\u001b[0;34m.\u001b[0m\u001b[0mBOLD\u001b[0m \u001b[0;34m+\u001b[0m \u001b[0;34m'top buys:\\n'\u001b[0m\u001b[0;34m,\u001b[0m \u001b[0;34m'-'\u001b[0m\u001b[0;34m*\u001b[0m\u001b[0;36m80\u001b[0m\u001b[0;34m)\u001b[0m\u001b[0;34m\u001b[0m\u001b[0;34m\u001b[0m\u001b[0m\n\u001b[0;32m---> 24\u001b[0;31m \u001b[0m_\u001b[0m \u001b[0;34m=\u001b[0m \u001b[0minteract\u001b[0m\u001b[0;34m(\u001b[0m\u001b[0;32mlambda\u001b[0m \u001b[0mnum_of_position\u001b[0m\u001b[0;34m:\u001b[0m \u001b[0mtop_action\u001b[0m\u001b[0;34m(\u001b[0m\u001b[0mnum_of_position\u001b[0m\u001b[0;34m,\u001b[0m \u001b[0;34m'buy'\u001b[0m\u001b[0;34m)\u001b[0m\u001b[0;34m,\u001b[0m \u001b[0mnum_of_position\u001b[0m\u001b[0;34m=\u001b[0m\u001b[0mnum_of_position\u001b[0m\u001b[0;34m)\u001b[0m\u001b[0;34m\u001b[0m\u001b[0;34m\u001b[0m\u001b[0m\n\u001b[0m",
                  "\u001b[0;32m<ipython-input-23-61c00a713d14>\u001b[0m in \u001b[0;36mtop_action\u001b[0;34m(num_of_position, action)\u001b[0m\n\u001b[1;32m     14\u001b[0m \u001b[0;34m\u001b[0m\u001b[0m\n\u001b[1;32m     15\u001b[0m     \u001b[0mascending\u001b[0m \u001b[0;34m=\u001b[0m \u001b[0maction\u001b[0m \u001b[0;34m!=\u001b[0m \u001b[0;34m'buy'\u001b[0m\u001b[0;34m\u001b[0m\u001b[0;34m\u001b[0m\u001b[0m\n\u001b[0;32m---> 16\u001b[0;31m     \u001b[0magg\u001b[0m \u001b[0;34m=\u001b[0m \u001b[0mpd\u001b[0m\u001b[0;34m.\u001b[0m\u001b[0mconcat\u001b[0m\u001b[0;34m(\u001b[0m\u001b[0mlist\u001b[0m\u001b[0;34m(\u001b[0m\u001b[0mdata\u001b[0m\u001b[0;34m.\u001b[0m\u001b[0mvalues\u001b[0m\u001b[0;34m(\u001b[0m\u001b[0;34m)\u001b[0m\u001b[0;34m)\u001b[0m\u001b[0;34m)\u001b[0m\u001b[0;34m\u001b[0m\u001b[0;34m\u001b[0m\u001b[0m\n\u001b[0m\u001b[1;32m     17\u001b[0m     \u001b[0magg\u001b[0m \u001b[0;34m=\u001b[0m \u001b[0magg\u001b[0m\u001b[0;34m[\u001b[0m\u001b[0;34m[\u001b[0m\u001b[0;34m'quarter_end'\u001b[0m\u001b[0;34m,\u001b[0m \u001b[0;34m'fund'\u001b[0m\u001b[0;34m,\u001b[0m \u001b[0;34m'Ticker'\u001b[0m\u001b[0;34m,\u001b[0m \u001b[0;34m'shares'\u001b[0m\u001b[0;34m,\u001b[0m \u001b[0;34m'prior_q_shares'\u001b[0m\u001b[0;34m,\u001b[0m \u001b[0;34m'shares_qoq'\u001b[0m\u001b[0;34m,\u001b[0m \u001b[0;34m'weights_qoq'\u001b[0m\u001b[0;34m]\u001b[0m\u001b[0;34m]\u001b[0m\u001b[0;34m\u001b[0m\u001b[0;34m\u001b[0m\u001b[0m\n\u001b[1;32m     18\u001b[0m     \u001b[0mdisplay\u001b[0m\u001b[0;34m(\u001b[0m\u001b[0magg\u001b[0m\u001b[0;34m[\u001b[0m\u001b[0magg\u001b[0m\u001b[0;34m.\u001b[0m\u001b[0mquarter_end\u001b[0m \u001b[0;34m==\u001b[0m \u001b[0magg\u001b[0m\u001b[0;34m.\u001b[0m\u001b[0mquarter_end\u001b[0m\u001b[0;34m.\u001b[0m\u001b[0mmax\u001b[0m\u001b[0;34m(\u001b[0m\u001b[0;34m)\u001b[0m\u001b[0;34m]\u001b[0m\u001b[0;34m.\u001b[0m\u001b[0msort_values\u001b[0m\u001b[0;34m(\u001b[0m\u001b[0mby\u001b[0m\u001b[0;34m=\u001b[0m\u001b[0;34m'weights_qoq'\u001b[0m\u001b[0;34m,\u001b[0m \u001b[0mascending\u001b[0m\u001b[0;34m=\u001b[0m\u001b[0mascending\u001b[0m\u001b[0;34m)\u001b[0m\u001b[0;34m[\u001b[0m\u001b[0;34m:\u001b[0m\u001b[0mnum_of_position\u001b[0m\u001b[0;34m]\u001b[0m\u001b[0;34m)\u001b[0m\u001b[0;34m\u001b[0m\u001b[0;34m\u001b[0m\u001b[0m\n",
                  "\u001b[0;32m/usr/local/lib/python3.7/dist-packages/pandas/core/reshape/concat.py\u001b[0m in \u001b[0;36mconcat\u001b[0;34m(objs, axis, join, ignore_index, keys, levels, names, verify_integrity, sort, copy)\u001b[0m\n\u001b[1;32m    282\u001b[0m         \u001b[0mverify_integrity\u001b[0m\u001b[0;34m=\u001b[0m\u001b[0mverify_integrity\u001b[0m\u001b[0;34m,\u001b[0m\u001b[0;34m\u001b[0m\u001b[0;34m\u001b[0m\u001b[0m\n\u001b[1;32m    283\u001b[0m         \u001b[0mcopy\u001b[0m\u001b[0;34m=\u001b[0m\u001b[0mcopy\u001b[0m\u001b[0;34m,\u001b[0m\u001b[0;34m\u001b[0m\u001b[0;34m\u001b[0m\u001b[0m\n\u001b[0;32m--> 284\u001b[0;31m         \u001b[0msort\u001b[0m\u001b[0;34m=\u001b[0m\u001b[0msort\u001b[0m\u001b[0;34m,\u001b[0m\u001b[0;34m\u001b[0m\u001b[0;34m\u001b[0m\u001b[0m\n\u001b[0m\u001b[1;32m    285\u001b[0m     )\n\u001b[1;32m    286\u001b[0m \u001b[0;34m\u001b[0m\u001b[0m\n",
                  "\u001b[0;32m/usr/local/lib/python3.7/dist-packages/pandas/core/reshape/concat.py\u001b[0m in \u001b[0;36m__init__\u001b[0;34m(self, objs, axis, join, keys, levels, names, ignore_index, verify_integrity, copy, sort)\u001b[0m\n\u001b[1;32m    329\u001b[0m \u001b[0;34m\u001b[0m\u001b[0m\n\u001b[1;32m    330\u001b[0m         \u001b[0;32mif\u001b[0m \u001b[0mlen\u001b[0m\u001b[0;34m(\u001b[0m\u001b[0mobjs\u001b[0m\u001b[0;34m)\u001b[0m \u001b[0;34m==\u001b[0m \u001b[0;36m0\u001b[0m\u001b[0;34m:\u001b[0m\u001b[0;34m\u001b[0m\u001b[0;34m\u001b[0m\u001b[0m\n\u001b[0;32m--> 331\u001b[0;31m             \u001b[0;32mraise\u001b[0m \u001b[0mValueError\u001b[0m\u001b[0;34m(\u001b[0m\u001b[0;34m\"No objects to concatenate\"\u001b[0m\u001b[0;34m)\u001b[0m\u001b[0;34m\u001b[0m\u001b[0;34m\u001b[0m\u001b[0m\n\u001b[0m\u001b[1;32m    332\u001b[0m \u001b[0;34m\u001b[0m\u001b[0m\n\u001b[1;32m    333\u001b[0m         \u001b[0;32mif\u001b[0m \u001b[0mkeys\u001b[0m \u001b[0;32mis\u001b[0m \u001b[0;32mNone\u001b[0m\u001b[0;34m:\u001b[0m\u001b[0;34m\u001b[0m\u001b[0;34m\u001b[0m\u001b[0m\n",
                  "\u001b[0;31mValueError\u001b[0m: No objects to concatenate"
                ]
              }
            ],
            "_view_module": "@jupyter-widgets/output",
            "_model_module_version": "1.0.0",
            "_view_count": null,
            "_view_module_version": "1.0.0",
            "layout": "IPY_MODEL_0e021c27ba244663935cb26322a10f3d",
            "_model_module": "@jupyter-widgets/output"
          }
        },
        "6f24c10825044e70b32ff4c4132fd70a": {
          "model_module": "@jupyter-widgets/controls",
          "model_name": "DescriptionStyleModel",
          "state": {
            "_view_name": "StyleView",
            "_model_name": "DescriptionStyleModel",
            "description_width": "",
            "_view_module": "@jupyter-widgets/base",
            "_model_module_version": "1.5.0",
            "_view_count": null,
            "_view_module_version": "1.2.0",
            "_model_module": "@jupyter-widgets/controls"
          }
        },
        "9666714a4ecf45b8bc38b1095d24bebd": {
          "model_module": "@jupyter-widgets/base",
          "model_name": "LayoutModel",
          "state": {
            "_view_name": "LayoutView",
            "grid_template_rows": null,
            "right": null,
            "justify_content": null,
            "_view_module": "@jupyter-widgets/base",
            "overflow": null,
            "_model_module_version": "1.2.0",
            "_view_count": null,
            "flex_flow": null,
            "width": null,
            "min_width": null,
            "border": null,
            "align_items": null,
            "bottom": null,
            "_model_module": "@jupyter-widgets/base",
            "top": null,
            "grid_column": null,
            "overflow_y": null,
            "overflow_x": null,
            "grid_auto_flow": null,
            "grid_area": null,
            "grid_template_columns": null,
            "flex": null,
            "_model_name": "LayoutModel",
            "justify_items": null,
            "grid_row": null,
            "max_height": null,
            "align_content": null,
            "visibility": null,
            "align_self": null,
            "height": null,
            "min_height": null,
            "padding": null,
            "grid_auto_rows": null,
            "grid_gap": null,
            "max_width": null,
            "order": null,
            "_view_module_version": "1.2.0",
            "grid_template_areas": null,
            "object_position": null,
            "object_fit": null,
            "grid_auto_columns": null,
            "margin": null,
            "display": null,
            "left": null
          }
        },
        "0e021c27ba244663935cb26322a10f3d": {
          "model_module": "@jupyter-widgets/base",
          "model_name": "LayoutModel",
          "state": {
            "_view_name": "LayoutView",
            "grid_template_rows": null,
            "right": null,
            "justify_content": null,
            "_view_module": "@jupyter-widgets/base",
            "overflow": null,
            "_model_module_version": "1.2.0",
            "_view_count": null,
            "flex_flow": null,
            "width": null,
            "min_width": null,
            "border": null,
            "align_items": null,
            "bottom": null,
            "_model_module": "@jupyter-widgets/base",
            "top": null,
            "grid_column": null,
            "overflow_y": null,
            "overflow_x": null,
            "grid_auto_flow": null,
            "grid_area": null,
            "grid_template_columns": null,
            "flex": null,
            "_model_name": "LayoutModel",
            "justify_items": null,
            "grid_row": null,
            "max_height": null,
            "align_content": null,
            "visibility": null,
            "align_self": null,
            "height": null,
            "min_height": null,
            "padding": null,
            "grid_auto_rows": null,
            "grid_gap": null,
            "max_width": null,
            "order": null,
            "_view_module_version": "1.2.0",
            "grid_template_areas": null,
            "object_position": null,
            "object_fit": null,
            "grid_auto_columns": null,
            "margin": null,
            "display": null,
            "left": null
          }
        }
      }
    }
  },
  "cells": [
    {
      "cell_type": "markdown",
      "metadata": {
        "id": "view-in-github",
        "colab_type": "text"
      },
      "source": [
        "<a href=\"https://colab.research.google.com/github/tleitch/SEC_13F_Filing/blob/master/13F_Filing.ipynb\" target=\"_parent\"><img src=\"https://colab.research.google.com/assets/colab-badge.svg\" alt=\"Open In Colab\"/></a>"
      ]
    },
    {
      "cell_type": "markdown",
      "metadata": {
        "id": "6raSnjNpvX5P"
      },
      "source": [
        "# The purpose of this script is to grab investment gurus' portfolio from their 13F filings, analyze their portfolio and potientially used it to inform stock selection decisions\n",
        "\n",
        "### Things I look for:\n",
        "##### 1. Number of shares increase over time\n",
        "##### 2. Stock is one of the larger positions in the portfolio\n",
        "##### 3. Current price is similar to when guru purchased it\n",
        "##### 4. A lot of gurus has the position"
      ]
    },
    {
      "cell_type": "code",
      "metadata": {
        "id": "Hsid7hSQvX5P",
        "outputId": "a7f64fe3-5a29-4aba-9e34-5b1aeedd256d",
        "colab": {
          "base_uri": "https://localhost:8080/"
        }
      },
      "source": [
        "import requests\n",
        "from lxml import html, etree\n",
        "\n",
        "from bs4 import BeautifulSoup\n",
        "import pandas as pd\n",
        "import numpy as np\n",
        "from ipywidgets import interact, Dropdown, widgets\n",
        "from IPython.display import display, HTML\n",
        "\n",
        "\n",
        "%matplotlib inline\n",
        "import matplotlib.pyplot as plt\n",
        "!pip install edgar\n",
        "import  edgar "
      ],
      "execution_count": 1,
      "outputs": [
        {
          "output_type": "stream",
          "text": [
            "Requirement already satisfied: edgar in /usr/local/lib/python3.7/dist-packages (5.4.1)\n",
            "Requirement already satisfied: fuzzywuzzy[speedup] in /usr/local/lib/python3.7/dist-packages (from edgar) (0.18.0)\n",
            "Requirement already satisfied: tqdm in /usr/local/lib/python3.7/dist-packages (from edgar) (4.41.1)\n",
            "Requirement already satisfied: requests in /usr/local/lib/python3.7/dist-packages (from edgar) (2.23.0)\n",
            "Requirement already satisfied: lxml in /usr/local/lib/python3.7/dist-packages (from edgar) (4.2.6)\n",
            "Requirement already satisfied: python-levenshtein>=0.12; extra == \"speedup\" in /usr/local/lib/python3.7/dist-packages (from fuzzywuzzy[speedup]->edgar) (0.12.2)\n",
            "Requirement already satisfied: certifi>=2017.4.17 in /usr/local/lib/python3.7/dist-packages (from requests->edgar) (2021.5.30)\n",
            "Requirement already satisfied: chardet<4,>=3.0.2 in /usr/local/lib/python3.7/dist-packages (from requests->edgar) (3.0.4)\n",
            "Requirement already satisfied: idna<3,>=2.5 in /usr/local/lib/python3.7/dist-packages (from requests->edgar) (2.10)\n",
            "Requirement already satisfied: urllib3!=1.25.0,!=1.25.1,<1.26,>=1.21.1 in /usr/local/lib/python3.7/dist-packages (from requests->edgar) (1.24.3)\n",
            "Requirement already satisfied: setuptools in /usr/local/lib/python3.7/dist-packages (from python-levenshtein>=0.12; extra == \"speedup\"->fuzzywuzzy[speedup]->edgar) (57.0.0)\n"
          ],
          "name": "stdout"
        }
      ]
    },
    {
      "cell_type": "markdown",
      "metadata": {
        "id": "0ZDxqe8bvX5Q"
      },
      "source": [
        "### Set up classes for retrieving the 13F and processing them\n",
        "\n",
        "__`edgar`__: based on the fund CIK number and retrieve the 13F filings\n",
        "\n",
        "* each fund will be its own class\n",
        "* each class can retrieve its historical 13F filings\n",
        "Process: initialized class --> specify filing type (get_all_fiings) --> download all the htmls (get_documents)\n",
        "\n",
        "\n",
        "\n",
        "\n",
        "__`digest_13F`__: takes the output from edgar class and parse the 13F into panda dataframe\n",
        "\n",
        "* For amended 13F. Seth is the only person who's amended 13F is a replacement. Everyone else's amended filing is only an addition. So the class will make special adjustment for seth\n",
        "Process: initialized class --> parse individual 13F (scrape_13f) --> __map tickers__ --> combining quarter 13F into one (all_13f)\n",
        "* map tickers: Details from notebook `CUSIP Parser`"
      ]
    },
    {
      "cell_type": "code",
      "metadata": {
        "id": "jHnqmMOTvX5Q"
      },
      "source": [
        "class edgar():\n",
        "    '''this class will get filings from SEC edgar. \n",
        "    Part of the functions are copy from https://pypi.org/project/edgar/'''\n",
        "\n",
        "    def __init__(self, name, cik, timeout=10):\n",
        "        self.name = name\n",
        "        self.cik = cik\n",
        "        self.url = 'https://www.sec.gov/cgi-bin/browse-edgar?action=getcompany&CIK={}'.format(cik)\n",
        "        self.timeout = timeout\n",
        "        self._document_urls = []\n",
        "        \n",
        "        \n",
        "    def get_request(self, href, isxml=False, timeout=10): # function to send get request\n",
        "        page = requests.get(href, timeout=timeout)\n",
        "        if isxml:\n",
        "            p = etree.XMLParser(huge_tree=True)\n",
        "            return etree.fromstring(page.content, parser=p)\n",
        "        else:\n",
        "            return html.fromstring(page.content)\n",
        "    \n",
        "    \n",
        "    def get_filings_url(self, filing_type=\"\", prior_to=\"\", ownership=\"include\", no_of_entries=100):\n",
        "        '''set up the url for documents'''\n",
        "        url = self.url + \"&type=\" + filing_type + \"&dateb=\" + prior_to + \"&owner=\" +  ownership + \"&count=\" + str(no_of_entries)\n",
        "        return url\n",
        " \n",
        "      \n",
        "    def get_all_filings(self, filing_type=\"\", prior_to=\"\", ownership=\"include\", no_of_entries=100):\n",
        "        '''filter the page for all the desired filings. This feed into get_documents which will pull the filings'''\n",
        "        url = self.get_filings_url(filing_type, prior_to, ownership, no_of_entries)\n",
        "        page = requests.get(url, timeout=self.timeout)\n",
        "        return html.fromstring(page.content)\n",
        "    \n",
        "    \n",
        "    def get_documents(self, tree, no_of_documents=1, debug=False):\n",
        "        BASE_URL = \"https://www.sec.gov\"\n",
        "        elems = tree.xpath('//*[@id=\"documentsbutton\"]')[:no_of_documents] # getting sublinks \n",
        "        result = []\n",
        "        \n",
        "        # the following are modified by Richard. If its 13f we get it from row 6 rather than row 2\n",
        "        if '13F' in html.tostring(tree).decode(\"utf-8\"):\n",
        "            for elem in elems:\n",
        "                url = BASE_URL + elem.attrib[\"href\"]\n",
        "                content_page = self.get_request(url)\n",
        "                if debug:\n",
        "                    print(elem)\n",
        "                    print(\"URL:\", url)\n",
        "                    print(\"FORM:\", content_page.find_class(\"formContent\")[0].text_content())\n",
        "                try:\n",
        "                    url = BASE_URL + content_page.xpath('//*[@id=\"formDiv\"]/div/table/tr[6]/td[3]/a')[0].attrib[\"href\"]\n",
        "                    filing = self.get_request(url)\n",
        "                    result.append(filing)\n",
        "                except IndexError:\n",
        "                    filing=None\n",
        "        else:\n",
        "            for elem in elems:\n",
        "                url = BASE_URL + elem.attrib[\"href\"]\n",
        "                content_page = self.get_request(url)\n",
        "                if debug:\n",
        "                    print(\"URL:\", url)\n",
        "                    print(\"FORM:\", content_page.find_class(\"formContent\")[0].text_content())\n",
        "                url = BASE_URL + content_page.xpath('//*[@id=\"formDiv\"]/div/table/tr[2]/td[3]/a')[0].attrib[\"href\"]\n",
        "                filing = self.get_request(url)\n",
        "                result.append(filing)\n",
        "\n",
        "        if len(result) == 1:\n",
        "            return result[0]\n",
        "        return result"
      ],
      "execution_count": 2,
      "outputs": []
    },
    {
      "cell_type": "code",
      "metadata": {
        "id": "45cRGfM6vX5R"
      },
      "source": [
        "class digest_13f():\n",
        "\n",
        "    def __init__(self, fund_name, docs):\n",
        "        \n",
        "        self.CUSIP = pd.read_csv('https://raw.githubusercontent.com/tleitch/SEC_13F_Filing/master/CUSIP/CUSIP.csv') # read in the CUSIP file\n",
        "        self.missing_tickers = {} # store companys with missing tickers. CUSIP: name\n",
        "        self.latest_filing = ''\n",
        "        self.num_of_quarter = 0\n",
        "        \n",
        "        self.fund_name = fund_name\n",
        "        self.docs = docs\n",
        "        \n",
        "        self.df = pd.DataFrame()\n",
        "        \n",
        "        \n",
        "        \n",
        "    \n",
        "    # this funtion can scrape individual 13F and put them into a dataframe\n",
        "    def scrape_13f(self, html):\n",
        "        '''takes the output from get documents and scrape the 13f into dataframe'''\n",
        "        \n",
        "        soup = BeautifulSoup(html, 'lxml')\n",
        "        rows = soup.find_all('infotable')\n",
        "        positions = []\n",
        "\n",
        "        for row in rows:\n",
        "            dic = {}\n",
        "            # scraping information from the html\n",
        "            dic['name_of_issuer'] = row.find_all('nameofissuer')[0].text\n",
        "            dic['title_of_class'] = row.find_all('titleofclass')[0].text\n",
        "            dic['CUSIP'] = row.find_all('cusip')[0].text\n",
        "            dic['value'] = int(row.find_all('value')[0].text.replace(',', ''))*1000\n",
        "            dic['shares'] = int(row.find_all('sshprnamt')[0].text.replace(',', ''))\n",
        "            dic['SH_PRN'] = row.find_all('sshprnamttype')[0].text\n",
        "            dic['discretion'] = row.find_all('investmentdiscretion')[0].text\n",
        "            # put the dictionary into the list \n",
        "            positions.append(dic)\n",
        "\n",
        "        # turn the list into dataframe\n",
        "        try:\n",
        "           df = pd.DataFrame(positions)\n",
        "        \n",
        "           df['file_type'] = soup.find_all('submissiontype')[0].text #name of the filing '13F-HR/A' means ammended filing\n",
        "        \n",
        "           # data of the the calendar\n",
        "           df['quarter_end'] = pd.to_datetime(soup.find_all('reportcalendarorquarter')[0].text,format='%m-%d-%Y')\n",
        "        \n",
        "           # dates of reporting\n",
        "           df['signature_date'] = pd.to_datetime(soup.find_all('signaturedate')[0].text,format='%m-%d-%Y')\n",
        "                                            \n",
        "           return df\n",
        "\n",
        "        except IndexError:\n",
        "          return None\n",
        "    \n",
        "    def all_13f(self):\n",
        "        '''scrape each 13F and put all into a dataframe'''\n",
        "        list_df = []\n",
        "        for doc in self.docs:\n",
        "            \n",
        "            doc = html.tostring(doc) # the edgar class outputs element. Transform it into string\n",
        "            df = self.scrape_13f(doc) # get the 13F into dataframe\n",
        "            if bool(df):\n",
        "              df['fund'] = self.fund_name # added fund name\n",
        "              list_df.append(df) # append to list\n",
        "        \n",
        "              self.df = pd.concat(list_df)\n",
        "        \n",
        "              self.latest_filing = self.df.quarter_end.max()\n",
        "              self.num_of_quarter = len(self.df.quarter_end.unique())\n",
        "    \n",
        "    def df_cleaning(self):\n",
        "        \n",
        "        self.all_13f()\n",
        "        \n",
        "        if self.fund_name in ['Seth', 'Guy']: # Seth and Guy's revision is replacement, so get the 13F with latest signature data\n",
        "            \n",
        "            # get the latest signature date by quater. This will get the revision 13F since it will have later date\n",
        "            max_signature_date = self.df.groupby(['quarter_end'])[['signature_date']].max().reset_index()\n",
        "\n",
        "            # inner join to get the latest filing by quarter\n",
        "            self.df = pd.merge(self.df, max_signature_date, how='inner', on=['quarter_end', 'signature_date'])\n",
        "            \n",
        "\n",
        "            \n",
        "        self.df = pd.merge(self.df, self.CUSIP, how='left', on='CUSIP')  # append tickers\n",
        "\n",
        "\n",
        "        \n",
        "        # Store the missing CUSIP stocks.\n",
        "        CUSIP_missing_ticker = self.df[self.df.Ticker.isna()].CUSIP.tolist()\n",
        "        name_missing_ticker = self.df[self.df.Ticker.isna()].name_of_issuer.tolist()\n",
        "        self.missing_tickers = {CUSIP: name for CUS, name in zip(CUSIP_missing_ticker, name_missing_ticker)}\n",
        "        \n",
        "        \n",
        "        \n",
        "        # replace the missing ticker with name for now\n",
        "        # CUSIP are leave out since some stock have different class which has different CUSIP\n",
        "        # name_of_issuer: the stock name is not very standarized as well.\n",
        "        self.df.Ticker = np.where(self.df.Ticker.isna(), 'NA' + self.df.name_of_issuer, self.df.Ticker)\n",
        "        \n",
        "        self.df = self.df.groupby(['fund', 'quarter_end', 'Ticker'])\\\n",
        "                         .agg({'value': 'sum', 'shares': 'sum'})\\\n",
        "                         .reset_index(drop=False)\n",
        "\n",
        "        \n",
        "        # calculating addition information based on the table\n",
        "        \n",
        "        self.df['share_price'] = self.df.value / self.df.shares\n",
        "        \n",
        "        def current_quarter_info(df):\n",
        "    \n",
        "            total_value = df.value.sum() # total portfolio value for the quarter\n",
        "\n",
        "            df['quarterly_weights'] = df.value/total_value\n",
        "            df['quarterly_rank'] = df.value.rank(ascending=False)\n",
        "\n",
        "            return(df)\n",
        "\n",
        "        # rank and calculate stock weights\n",
        "        self.df = self.df.groupby(['fund', 'quarter_end']).apply(current_quarter_info)\n",
        "        \n",
        "        \n",
        "        \n",
        "        # calculate quarter over quarter changes\n",
        "        \n",
        "        self.df['prior_q'] = self.df.quarter_end - pd.offsets.MonthOffset(3) + pd.offsets.MonthEnd(0)\n",
        "\n",
        "        prior_data = self.df[['Ticker', 'quarter_end', 'shares', 'quarterly_weights']]\n",
        "        prior_data.columns = ['Ticker', 'prior_q', 'prior_q_shares', 'prior_q_quarterly_weights']\n",
        "\n",
        "        self.df = pd.merge(self.df, prior_data, how='left', on=['Ticker', 'prior_q']) # join with prior quarter data\n",
        "        self.df['shares_qoq'] = self.df.shares / self.df.prior_q_shares - 1\n",
        "        self.df.shares_qoq.fillna(10, inplace=True)\n",
        "        self.df.prior_q_shares.fillna(0, inplace=True)\n",
        "        \n",
        "        self.df['weights_qoq'] = self.df.quarterly_weights - self.df.prior_q_quarterly_weights.fillna(0)"
      ],
      "execution_count": 19,
      "outputs": []
    },
    {
      "cell_type": "markdown",
      "metadata": {
        "id": "euYAoNUKvX5T"
      },
      "source": [
        "### Typing the CIK number,  retrieve the 13F and ingest them"
      ]
    },
    {
      "cell_type": "code",
      "metadata": {
        "id": "WrWoS6z8vX5U"
      },
      "source": [
        "# list of gurus I want to track and their cik\n",
        "cik={'Buffett': '0001067983', 'Mohnish': '0001549575', 'Seth': '0001061768', 'Carl': '0000921669', \n",
        "     'TCI_Chris': '0001647251', 'Pershing_Ackman': '0001336528', 'Greenlight_Einhorn': '0001079114',\n",
        "     'Himalaya_Li_Lu': '0001709323', 'David_Tepper': '0001656456', 'Dalio':'0001350694', \n",
        "     'Guy': '0001404599'}"
      ],
      "execution_count": 15,
      "outputs": []
    },
    {
      "cell_type": "code",
      "metadata": {
        "id": "hsjxGyHSvX5U",
        "outputId": "550bfdd4-aa50-4239-bed5-b946452e2db8",
        "colab": {
          "base_uri": "https://localhost:8080/"
        }
      },
      "source": [
        "# Getting 13F for each guru and save them into a dictionary\n",
        "\n",
        "docs_dict = {}\n",
        "\n",
        "for guru in cik:\n",
        "    print(guru)\n",
        "    fund = edgar(name=guru, cik=cik[guru]) # load the fund\n",
        "    tree = fund.get_all_filings(filing_type='13F-HR') # get individual links\n",
        "    docs = fund.get_documents(tree=tree, no_of_documents=20,debug=False) # getting the html for all \n",
        "    \n",
        "    docs_dict[guru] = docs # attach the 13f into docs dictionary\n",
        "    \n",
        "    print('{:<2} 13f from {:<20} is loaded'.format(len(docs) ,guru))"
      ],
      "execution_count": 5,
      "outputs": [
        {
          "output_type": "stream",
          "text": [
            "Buffett\n",
            "18 13f from Buffett              is loaded\n",
            "Mohnish\n",
            "14 13f from Mohnish              is loaded\n",
            "Seth\n",
            "0  13f from Seth                 is loaded\n",
            "Carl\n",
            "14 13f from Carl                 is loaded\n",
            "TCI_Chris\n",
            "0  13f from TCI_Chris            is loaded\n",
            "Pershing_Ackman\n",
            "0  13f from Pershing_Ackman      is loaded\n",
            "Greenlight_Einhorn\n",
            "0  13f from Greenlight_Einhorn   is loaded\n",
            "Himalaya_Li_Lu\n",
            "10 13f from Himalaya_Li_Lu       is loaded\n",
            "David_Tepper\n",
            "13 13f from David_Tepper         is loaded\n",
            "Dalio\n",
            "12 13f from Dalio                is loaded\n",
            "Guy\n",
            "17 13f from Guy                  is loaded\n"
          ],
          "name": "stdout"
        }
      ]
    },
    {
      "cell_type": "code",
      "metadata": {
        "id": "hs-VULZlvX5V",
        "outputId": "abe71bba-6ca1-408c-eb2c-aa2b381f7c92",
        "colab": {
          "base_uri": "https://localhost:8080/",
          "height": 392
        }
      },
      "source": [
        "# scrape the 13F into dictionary of dataframe\n",
        "\n",
        "data={}\n",
        "\n",
        "for guru in docs_dict:\n",
        "    print(guru)\n",
        "    docs = docs_dict[guru]\n",
        "    if bool(docs) :\n",
        "      data_13f = digest_13f(fund_name=guru, docs=docs) # initialized the scrapping class\n",
        "      data_13f.df_cleaning() # scrape all into df\n",
        "      data[guru] = data_13f.df # get the df into dictionary\n",
        "    \n",
        "      num_of_position = data[guru][data[guru].quarter_end == data_13f.latest_filing].shape[0]\n",
        "    \n",
        "      string = 'Latest filing: {} | # of 13F from {:<20} are loaded: {:<2} | num of positions: {:<2}'\n",
        "      print(string.format(data_13f.latest_filing.date(), guru, data_13f.num_of_quarter, num_of_position))\n",
        "      print('missing tickers', data_13f.missing_tickers)"
      ],
      "execution_count": 20,
      "outputs": [
        {
          "output_type": "stream",
          "text": [
            "Buffett\n"
          ],
          "name": "stdout"
        },
        {
          "output_type": "error",
          "ename": "ValueError",
          "evalue": "ignored",
          "traceback": [
            "\u001b[0;31m---------------------------------------------------------------------------\u001b[0m",
            "\u001b[0;31mValueError\u001b[0m                                Traceback (most recent call last)",
            "\u001b[0;32m<ipython-input-20-729e282efedd>\u001b[0m in \u001b[0;36m<module>\u001b[0;34m()\u001b[0m\n\u001b[1;32m      8\u001b[0m     \u001b[0;32mif\u001b[0m \u001b[0mbool\u001b[0m\u001b[0;34m(\u001b[0m\u001b[0mdocs\u001b[0m\u001b[0;34m)\u001b[0m \u001b[0;34m:\u001b[0m\u001b[0;34m\u001b[0m\u001b[0;34m\u001b[0m\u001b[0m\n\u001b[1;32m      9\u001b[0m       \u001b[0mdata_13f\u001b[0m \u001b[0;34m=\u001b[0m \u001b[0mdigest_13f\u001b[0m\u001b[0;34m(\u001b[0m\u001b[0mfund_name\u001b[0m\u001b[0;34m=\u001b[0m\u001b[0mguru\u001b[0m\u001b[0;34m,\u001b[0m \u001b[0mdocs\u001b[0m\u001b[0;34m=\u001b[0m\u001b[0mdocs\u001b[0m\u001b[0;34m)\u001b[0m \u001b[0;31m# initialized the scrapping class\u001b[0m\u001b[0;34m\u001b[0m\u001b[0;34m\u001b[0m\u001b[0m\n\u001b[0;32m---> 10\u001b[0;31m       \u001b[0mdata_13f\u001b[0m\u001b[0;34m.\u001b[0m\u001b[0mdf_cleaning\u001b[0m\u001b[0;34m(\u001b[0m\u001b[0;34m)\u001b[0m \u001b[0;31m# scrape all into df\u001b[0m\u001b[0;34m\u001b[0m\u001b[0;34m\u001b[0m\u001b[0m\n\u001b[0m\u001b[1;32m     11\u001b[0m       \u001b[0mdata\u001b[0m\u001b[0;34m[\u001b[0m\u001b[0mguru\u001b[0m\u001b[0;34m]\u001b[0m \u001b[0;34m=\u001b[0m \u001b[0mdata_13f\u001b[0m\u001b[0;34m.\u001b[0m\u001b[0mdf\u001b[0m \u001b[0;31m# get the df into dictionary\u001b[0m\u001b[0;34m\u001b[0m\u001b[0;34m\u001b[0m\u001b[0m\n\u001b[1;32m     12\u001b[0m \u001b[0;34m\u001b[0m\u001b[0m\n",
            "\u001b[0;32m<ipython-input-19-fb40237ef3a4>\u001b[0m in \u001b[0;36mdf_cleaning\u001b[0;34m(self)\u001b[0m\n\u001b[1;32m     72\u001b[0m     \u001b[0;32mdef\u001b[0m \u001b[0mdf_cleaning\u001b[0m\u001b[0;34m(\u001b[0m\u001b[0mself\u001b[0m\u001b[0;34m)\u001b[0m\u001b[0;34m:\u001b[0m\u001b[0;34m\u001b[0m\u001b[0;34m\u001b[0m\u001b[0m\n\u001b[1;32m     73\u001b[0m \u001b[0;34m\u001b[0m\u001b[0m\n\u001b[0;32m---> 74\u001b[0;31m         \u001b[0mself\u001b[0m\u001b[0;34m.\u001b[0m\u001b[0mall_13f\u001b[0m\u001b[0;34m(\u001b[0m\u001b[0;34m)\u001b[0m\u001b[0;34m\u001b[0m\u001b[0;34m\u001b[0m\u001b[0m\n\u001b[0m\u001b[1;32m     75\u001b[0m \u001b[0;34m\u001b[0m\u001b[0m\n\u001b[1;32m     76\u001b[0m         \u001b[0;32mif\u001b[0m \u001b[0mself\u001b[0m\u001b[0;34m.\u001b[0m\u001b[0mfund_name\u001b[0m \u001b[0;32min\u001b[0m \u001b[0;34m[\u001b[0m\u001b[0;34m'Seth'\u001b[0m\u001b[0;34m,\u001b[0m \u001b[0;34m'Guy'\u001b[0m\u001b[0;34m]\u001b[0m\u001b[0;34m:\u001b[0m \u001b[0;31m# Seth and Guy's revision is replacement, so get the 13F with latest signature data\u001b[0m\u001b[0;34m\u001b[0m\u001b[0;34m\u001b[0m\u001b[0m\n",
            "\u001b[0;32m<ipython-input-19-fb40237ef3a4>\u001b[0m in \u001b[0;36mall_13f\u001b[0;34m(self)\u001b[0m\n\u001b[1;32m     61\u001b[0m             \u001b[0mdoc\u001b[0m \u001b[0;34m=\u001b[0m \u001b[0mhtml\u001b[0m\u001b[0;34m.\u001b[0m\u001b[0mtostring\u001b[0m\u001b[0;34m(\u001b[0m\u001b[0mdoc\u001b[0m\u001b[0;34m)\u001b[0m \u001b[0;31m# the edgar class outputs element. Transform it into string\u001b[0m\u001b[0;34m\u001b[0m\u001b[0;34m\u001b[0m\u001b[0m\n\u001b[1;32m     62\u001b[0m             \u001b[0mdf\u001b[0m \u001b[0;34m=\u001b[0m \u001b[0mself\u001b[0m\u001b[0;34m.\u001b[0m\u001b[0mscrape_13f\u001b[0m\u001b[0;34m(\u001b[0m\u001b[0mdoc\u001b[0m\u001b[0;34m)\u001b[0m \u001b[0;31m# get the 13F into dataframe\u001b[0m\u001b[0;34m\u001b[0m\u001b[0;34m\u001b[0m\u001b[0m\n\u001b[0;32m---> 63\u001b[0;31m             \u001b[0;32mif\u001b[0m \u001b[0mbool\u001b[0m\u001b[0;34m(\u001b[0m\u001b[0mdf\u001b[0m\u001b[0;34m)\u001b[0m\u001b[0;34m:\u001b[0m\u001b[0;34m\u001b[0m\u001b[0;34m\u001b[0m\u001b[0m\n\u001b[0m\u001b[1;32m     64\u001b[0m               \u001b[0mdf\u001b[0m\u001b[0;34m[\u001b[0m\u001b[0;34m'fund'\u001b[0m\u001b[0;34m]\u001b[0m \u001b[0;34m=\u001b[0m \u001b[0mself\u001b[0m\u001b[0;34m.\u001b[0m\u001b[0mfund_name\u001b[0m \u001b[0;31m# added fund name\u001b[0m\u001b[0;34m\u001b[0m\u001b[0;34m\u001b[0m\u001b[0m\n\u001b[1;32m     65\u001b[0m               \u001b[0mlist_df\u001b[0m\u001b[0;34m.\u001b[0m\u001b[0mappend\u001b[0m\u001b[0;34m(\u001b[0m\u001b[0mdf\u001b[0m\u001b[0;34m)\u001b[0m \u001b[0;31m# append to list\u001b[0m\u001b[0;34m\u001b[0m\u001b[0;34m\u001b[0m\u001b[0m\n",
            "\u001b[0;32m/usr/local/lib/python3.7/dist-packages/pandas/core/generic.py\u001b[0m in \u001b[0;36m__nonzero__\u001b[0;34m(self)\u001b[0m\n\u001b[1;32m   1328\u001b[0m     \u001b[0;32mdef\u001b[0m \u001b[0m__nonzero__\u001b[0m\u001b[0;34m(\u001b[0m\u001b[0mself\u001b[0m\u001b[0;34m)\u001b[0m\u001b[0;34m:\u001b[0m\u001b[0;34m\u001b[0m\u001b[0;34m\u001b[0m\u001b[0m\n\u001b[1;32m   1329\u001b[0m         raise ValueError(\n\u001b[0;32m-> 1330\u001b[0;31m             \u001b[0;34mf\"The truth value of a {type(self).__name__} is ambiguous. \"\u001b[0m\u001b[0;34m\u001b[0m\u001b[0;34m\u001b[0m\u001b[0m\n\u001b[0m\u001b[1;32m   1331\u001b[0m             \u001b[0;34m\"Use a.empty, a.bool(), a.item(), a.any() or a.all().\"\u001b[0m\u001b[0;34m\u001b[0m\u001b[0;34m\u001b[0m\u001b[0m\n\u001b[1;32m   1332\u001b[0m         )\n",
            "\u001b[0;31mValueError\u001b[0m: The truth value of a DataFrame is ambiguous. Use a.empty, a.bool(), a.item(), a.any() or a.all()."
          ]
        }
      ]
    },
    {
      "cell_type": "markdown",
      "metadata": {
        "id": "42EZiLA2vX5W"
      },
      "source": [
        "### Plot the size of the each guru's portfolio over time"
      ]
    },
    {
      "cell_type": "code",
      "metadata": {
        "scrolled": false,
        "id": "9Hw5670fvX5W",
        "outputId": "b9dea5b5-555a-4f70-8f65-79276276eecc",
        "colab": {
          "base_uri": "https://localhost:8080/",
          "height": 375
        }
      },
      "source": [
        "# create the value of each fund by time\n",
        "\n",
        "agg = pd.concat(list(data.values()))\n",
        "agg = agg.groupby(['quarter_end', 'fund']).value.sum().unstack()/1000000000\n",
        "\n",
        "\n",
        "fig, axes = plt.subplots(nrows=2, ncols=1, figsize=(15, 12))\n",
        "\n",
        "agg.plot(ax=axes[0], marker='o')\n",
        "axes[0].set_ylabel('Billions', fontweight='bold')\n",
        "axes[0].set_title('Fund Size Over Time\\n All Funds', fontweight='bold')\n",
        "axes[0].legend(bbox_to_anchor=(1,1))\n",
        "# axes[0].set_xticklabels(axes[0].get_xticklabels(), rotation=-45, horizontalalignment='left')\n",
        "\n",
        "\n",
        "\n",
        "agg.drop(['Buffett'], axis='columns').plot(ax=axes[1], marker='o')\n",
        "axes[1].set_ylabel('Billions', fontweight='bold')\n",
        "axes[1].set_title('Fund Size Over Time\\n Smaller Funds', fontweight='bold')\n",
        "axes[1].legend(bbox_to_anchor=(1,1))\n",
        "# axes[1].set_xticklabels(axes[1].get_xticklabels(), rotation=-45, horizontalalignment='left')\n",
        "\n",
        "\n",
        "plt.tight_layout()"
      ],
      "execution_count": 21,
      "outputs": [
        {
          "output_type": "error",
          "ename": "ValueError",
          "evalue": "ignored",
          "traceback": [
            "\u001b[0;31m---------------------------------------------------------------------------\u001b[0m",
            "\u001b[0;31mValueError\u001b[0m                                Traceback (most recent call last)",
            "\u001b[0;32m<ipython-input-21-f96a1362a0c3>\u001b[0m in \u001b[0;36m<module>\u001b[0;34m()\u001b[0m\n\u001b[1;32m      1\u001b[0m \u001b[0;31m# create the value of each fund by time\u001b[0m\u001b[0;34m\u001b[0m\u001b[0;34m\u001b[0m\u001b[0;34m\u001b[0m\u001b[0m\n\u001b[1;32m      2\u001b[0m \u001b[0;34m\u001b[0m\u001b[0m\n\u001b[0;32m----> 3\u001b[0;31m \u001b[0magg\u001b[0m \u001b[0;34m=\u001b[0m \u001b[0mpd\u001b[0m\u001b[0;34m.\u001b[0m\u001b[0mconcat\u001b[0m\u001b[0;34m(\u001b[0m\u001b[0mlist\u001b[0m\u001b[0;34m(\u001b[0m\u001b[0mdata\u001b[0m\u001b[0;34m.\u001b[0m\u001b[0mvalues\u001b[0m\u001b[0;34m(\u001b[0m\u001b[0;34m)\u001b[0m\u001b[0;34m)\u001b[0m\u001b[0;34m)\u001b[0m\u001b[0;34m\u001b[0m\u001b[0;34m\u001b[0m\u001b[0m\n\u001b[0m\u001b[1;32m      4\u001b[0m \u001b[0magg\u001b[0m \u001b[0;34m=\u001b[0m \u001b[0magg\u001b[0m\u001b[0;34m.\u001b[0m\u001b[0mgroupby\u001b[0m\u001b[0;34m(\u001b[0m\u001b[0;34m[\u001b[0m\u001b[0;34m'quarter_end'\u001b[0m\u001b[0;34m,\u001b[0m \u001b[0;34m'fund'\u001b[0m\u001b[0;34m]\u001b[0m\u001b[0;34m)\u001b[0m\u001b[0;34m.\u001b[0m\u001b[0mvalue\u001b[0m\u001b[0;34m.\u001b[0m\u001b[0msum\u001b[0m\u001b[0;34m(\u001b[0m\u001b[0;34m)\u001b[0m\u001b[0;34m.\u001b[0m\u001b[0munstack\u001b[0m\u001b[0;34m(\u001b[0m\u001b[0;34m)\u001b[0m\u001b[0;34m/\u001b[0m\u001b[0;36m1000000000\u001b[0m\u001b[0;34m\u001b[0m\u001b[0;34m\u001b[0m\u001b[0m\n\u001b[1;32m      5\u001b[0m \u001b[0;34m\u001b[0m\u001b[0m\n",
            "\u001b[0;32m/usr/local/lib/python3.7/dist-packages/pandas/core/reshape/concat.py\u001b[0m in \u001b[0;36mconcat\u001b[0;34m(objs, axis, join, ignore_index, keys, levels, names, verify_integrity, sort, copy)\u001b[0m\n\u001b[1;32m    282\u001b[0m         \u001b[0mverify_integrity\u001b[0m\u001b[0;34m=\u001b[0m\u001b[0mverify_integrity\u001b[0m\u001b[0;34m,\u001b[0m\u001b[0;34m\u001b[0m\u001b[0;34m\u001b[0m\u001b[0m\n\u001b[1;32m    283\u001b[0m         \u001b[0mcopy\u001b[0m\u001b[0;34m=\u001b[0m\u001b[0mcopy\u001b[0m\u001b[0;34m,\u001b[0m\u001b[0;34m\u001b[0m\u001b[0;34m\u001b[0m\u001b[0m\n\u001b[0;32m--> 284\u001b[0;31m         \u001b[0msort\u001b[0m\u001b[0;34m=\u001b[0m\u001b[0msort\u001b[0m\u001b[0;34m,\u001b[0m\u001b[0;34m\u001b[0m\u001b[0;34m\u001b[0m\u001b[0m\n\u001b[0m\u001b[1;32m    285\u001b[0m     )\n\u001b[1;32m    286\u001b[0m \u001b[0;34m\u001b[0m\u001b[0m\n",
            "\u001b[0;32m/usr/local/lib/python3.7/dist-packages/pandas/core/reshape/concat.py\u001b[0m in \u001b[0;36m__init__\u001b[0;34m(self, objs, axis, join, keys, levels, names, ignore_index, verify_integrity, copy, sort)\u001b[0m\n\u001b[1;32m    329\u001b[0m \u001b[0;34m\u001b[0m\u001b[0m\n\u001b[1;32m    330\u001b[0m         \u001b[0;32mif\u001b[0m \u001b[0mlen\u001b[0m\u001b[0;34m(\u001b[0m\u001b[0mobjs\u001b[0m\u001b[0;34m)\u001b[0m \u001b[0;34m==\u001b[0m \u001b[0;36m0\u001b[0m\u001b[0;34m:\u001b[0m\u001b[0;34m\u001b[0m\u001b[0;34m\u001b[0m\u001b[0m\n\u001b[0;32m--> 331\u001b[0;31m             \u001b[0;32mraise\u001b[0m \u001b[0mValueError\u001b[0m\u001b[0;34m(\u001b[0m\u001b[0;34m\"No objects to concatenate\"\u001b[0m\u001b[0;34m)\u001b[0m\u001b[0;34m\u001b[0m\u001b[0;34m\u001b[0m\u001b[0m\n\u001b[0m\u001b[1;32m    332\u001b[0m \u001b[0;34m\u001b[0m\u001b[0m\n\u001b[1;32m    333\u001b[0m         \u001b[0;32mif\u001b[0m \u001b[0mkeys\u001b[0m \u001b[0;32mis\u001b[0m \u001b[0;32mNone\u001b[0m\u001b[0;34m:\u001b[0m\u001b[0;34m\u001b[0m\u001b[0;34m\u001b[0m\u001b[0m\n",
            "\u001b[0;31mValueError\u001b[0m: No objects to concatenate"
          ]
        }
      ]
    },
    {
      "cell_type": "markdown",
      "metadata": {
        "id": "Ko0Snt19vX5X"
      },
      "source": [
        "### Plot the size of the individual guru's portfolio over time"
      ]
    },
    {
      "cell_type": "code",
      "metadata": {
        "id": "hN3f7NchvX5X",
        "outputId": "2a1ac35c-51ab-488c-cd23-2a531ad367dc",
        "colab": {
          "base_uri": "https://localhost:8080/",
          "height": 1000,
          "referenced_widgets": [
            "3a203a4dddeb4b8da4cabda1aad42ada",
            "283e3254303441449fe5c6e6ed124333",
            "ed31bffedd5e47819a59c84cfd191d39",
            "1f2434b2df9446d585d803d1eef18b95",
            "0dce3edc558d419eaca379ae7f2f022e",
            "ffe5f86cf0464ddd8066102bf85e0ea4",
            "baf2eedb85b047709f59b907ed0c187e"
          ]
        }
      },
      "source": [
        "def plot_guru(guru):\n",
        "    \n",
        "    fig, ax = plt.subplots(figsize=(10, 6))\n",
        "\n",
        "    ax.plot(agg.index, agg[guru], marker='o')  \n",
        "    \n",
        "    ax.set_ylabel('Billions', fontweight='bold')\n",
        "    ax.set_title('{} Fund Size Over Time'.format(guru), fontweight='bold')\n",
        "\n",
        "investor = Dropdown(options=list(cik.keys()), value=list(cik.keys())[0], description='Guru')\n",
        "\n",
        "_ = interact(plot_guru, guru=investor)"
      ],
      "execution_count": 22,
      "outputs": [
        {
          "output_type": "display_data",
          "data": {
            "application/vnd.jupyter.widget-view+json": {
              "model_id": "3a203a4dddeb4b8da4cabda1aad42ada",
              "version_minor": 0,
              "version_major": 2
            },
            "text/plain": [
              "interactive(children=(Dropdown(description='Guru', options=('Buffett', 'Mohnish', 'Seth', 'Carl', 'TCI_Chris',…"
            ]
          },
          "metadata": {
            "tags": []
          }
        },
        {
          "output_type": "display_data",
          "data": {
            "image/png": "[encoded data removed]",
            "text/plain": [
              "<Figure size 720x432 with 1 Axes>"
            ]
          },
          "metadata": {
            "tags": [],
            "needs_background": "light"
          }
        },
        {
          "output_type": "display_data",
          "data": {
            "image/png": "[encoded data removed]",
            "text/plain": [
              "<Figure size 720x432 with 1 Axes>"
            ]
          },
          "metadata": {
            "tags": [],
            "needs_background": "light"
          }
        },
        {
          "output_type": "display_data",
          "data": {
            "image/png": "[encoded data removed]",
            "text/plain": [
              "<Figure size 720x432 with 1 Axes>"
            ]
          },
          "metadata": {
            "tags": [],
            "needs_background": "light"
          }
        }
      ]
    },
    {
      "cell_type": "markdown",
      "metadata": {
        "id": "E6b0t7LivX5Y"
      },
      "source": [
        "## Showing top buy and top sell"
      ]
    },
    {
      "cell_type": "code",
      "metadata": {
        "id": "BtIRayIlvX5Y",
        "outputId": "7e0a8cd2-c9a5-42fb-a546-3220a5bcea22",
        "colab": {
          "base_uri": "https://localhost:8080/",
          "height": 441,
          "referenced_widgets": [
            "024efcb463f6474ab547b25f5bc2754a",
            "4d9278ebd66443418a3cbf5f62e4ae58",
            "778cf8e3232b4acb80db777917aaf166",
            "c38276f989714cbe8d22a7383e7e0b89",
            "6f24c10825044e70b32ff4c4132fd70a",
            "9666714a4ecf45b8bc38b1095d24bebd",
            "0e021c27ba244663935cb26322a10f3d"
          ]
        }
      },
      "source": [
        "class color:\n",
        "    PURPLE = '\\033[95m'\n",
        "    CYAN = '\\033[96m'\n",
        "    DARKCYAN = '\\033[36m'\n",
        "    BLUE = '\\033[94m'\n",
        "    GREEN = '\\033[92m'\n",
        "    YELLOW = '\\033[93m'\n",
        "    RED = '\\033[91m'\n",
        "    BOLD = '\\033[1m'\n",
        "    UNDERLINE = '\\033[4m'\n",
        "    END = '\\033[0m'\n",
        "\n",
        "def top_action(num_of_position, action):\n",
        "\n",
        "    ascending = action != 'buy'\n",
        "    agg = pd.concat(list(data.values()))\n",
        "    agg = agg[['quarter_end', 'fund', 'Ticker', 'shares', 'prior_q_shares', 'shares_qoq', 'weights_qoq']]\n",
        "    display(agg[agg.quarter_end == agg.quarter_end.max()].sort_values(by='weights_qoq', ascending=ascending)[:num_of_position])\n",
        "\n",
        "    \n",
        "num_of_position = Dropdown(options=range(5,51), value=10, description='num_of_position')\n",
        "\n",
        "print(color.BOLD + 'top buys:\\n', '-'*80)\n",
        "_ = interact(lambda num_of_position: top_action(num_of_position, 'buy'), num_of_position=num_of_position)"
      ],
      "execution_count": 23,
      "outputs": [
        {
          "output_type": "stream",
          "text": [
            "\u001b[1mtop buys:\n",
            " --------------------------------------------------------------------------------\n"
          ],
          "name": "stdout"
        },
        {
          "output_type": "display_data",
          "data": {
            "application/vnd.jupyter.widget-view+json": {
              "model_id": "024efcb463f6474ab547b25f5bc2754a",
              "version_minor": 0,
              "version_major": 2
            },
            "text/plain": [
              "interactive(children=(Dropdown(description='num_of_position', index=5, options=(5, 6, 7, 8, 9, 10, 11, 12, 13,…"
            ]
          },
          "metadata": {
            "tags": []
          }
        }
      ]
    },
    {
      "cell_type": "code",
      "metadata": {
        "id": "qEQ9aXLYvX5Y"
      },
      "source": [
        "print(color.BOLD + 'top sells:\\n', '-'*80)\n",
        "_ = interact(lambda num_of_position: top_action(num_of_position, 'sell'), num_of_position=num_of_position)"
      ],
      "execution_count": null,
      "outputs": []
    },
    {
      "cell_type": "markdown",
      "metadata": {
        "id": "syqDBNebvX5Y"
      },
      "source": [
        "### Most Common Holdings and Most conviction Holdings"
      ]
    },
    {
      "cell_type": "code",
      "metadata": {
        "id": "kfi3EXJlvX5Z"
      },
      "source": [
        "def common_holding(df):\n",
        "    \n",
        "    df = df.sort_values(by='quarterly_weights', ascending=False)\n",
        "    \n",
        "    return(pd.Series({'guru_count': df.shape[0], \n",
        "                          'avg_weights': df.quarterly_weights.mean(), \n",
        "                          'gurus': dict(zip(df.fund.tolist(), df.quarterly_weights.round(2).tolist()))}))\n",
        "\n",
        "\n",
        "print(color.BOLD + 'Common Holding:\\n', '-'*80)\n",
        "\n",
        "agg = pd.concat(list(data.values()))\n",
        "agg = agg[agg.quarter_end == agg.quarter_end.max()]\n",
        "\n",
        "agg[['fund', 'Ticker', 'quarterly_weights']].groupby('Ticker')\\\n",
        "                                            .apply(common_holding)\\\n",
        "                                            .sort_values(by='guru_count', ascending=False)[:20]"
      ],
      "execution_count": null,
      "outputs": []
    },
    {
      "cell_type": "code",
      "metadata": {
        "id": "YNFRFE0VvX5Z"
      },
      "source": [
        "print(color.BOLD + 'Most Conviction Holding:\\n', '-'*80)\n",
        "\n",
        "agg = pd.concat(list(data.values()))\n",
        "agg = agg[agg.quarter_end == agg.quarter_end.max()]\n",
        "\n",
        "agg[['fund', 'Ticker', 'quarterly_weights']].groupby('Ticker')\\\n",
        "                                            .apply(common_holding)\\\n",
        "                                            .sort_values(by='avg_weights', ascending=False)[:20]"
      ],
      "execution_count": null,
      "outputs": []
    },
    {
      "cell_type": "markdown",
      "metadata": {
        "id": "6FkDc1RDvX5Z"
      },
      "source": [
        "### Showing the current portfolio's change over last two quarters"
      ]
    },
    {
      "cell_type": "code",
      "metadata": {
        "id": "oG9UkZu_vX5a"
      },
      "source": [
        "def color_column(val):\n",
        "    \"\"\"\n",
        "    Takes a scalar and returns a string with\n",
        "    the css property `'color: red'` for negative\n",
        "    strings, black otherwise.\n",
        "    \"\"\"\n",
        "    \n",
        "    if val < 0:\n",
        "        color = 'red'\n",
        "    elif val > 0:\n",
        "        color = 'blue'\n",
        "    else:\n",
        "        color = 'black'\n",
        "\n",
        "    return 'color: %s' % color\n",
        "\n",
        "\n",
        "def guru_portfolio(guru, num_of_position):\n",
        "    \n",
        "    guru_data = data[guru].copy()\n",
        "\n",
        "    guru_data = guru_data[guru_data.quarter_end > guru_data.quarter_end.unique()[-3]]\n",
        "    \n",
        "    guru_data = guru_data[['fund', 'Ticker', 'quarter_end', 'shares_qoq', 'quarterly_weights']]\\\n",
        "                            .set_index(['fund', 'Ticker', 'quarter_end'])\\\n",
        "                            .unstack()\n",
        "\n",
        "    sort_index = guru_data[('quarterly_weights', )].sum(axis=1).sort_values(ascending=False).index\n",
        "\n",
        "    \n",
        "    \n",
        "    col = guru_data.columns[:2]\n",
        "#     guru_data = guru_data\n",
        "\n",
        "    \n",
        "    display(guru_data.loc[sort_index, :][:num_of_position].style.applymap(color_column, subset=col))\n",
        "    \n",
        "investor = Dropdown(options=list(cik.keys()), value=list(cik.keys())[0], description='Guru')\n",
        "num_of_position = Dropdown(options=range(5,51), value=10, description='num_of_position')\n",
        "\n",
        "\n",
        "_ = interact(guru_portfolio, guru=investor, num_of_position=num_of_position)"
      ],
      "execution_count": null,
      "outputs": []
    },
    {
      "cell_type": "markdown",
      "metadata": {
        "id": "o5i_89n5vX5a"
      },
      "source": [
        "# Function to create a dropdown list where I can easily select a guru and plot guru's top stock positions over time"
      ]
    },
    {
      "cell_type": "code",
      "metadata": {
        "id": "YOXAZSoNvX5a"
      },
      "source": [
        "\n",
        "def plot_holding(guru,size_rank):\n",
        "    \n",
        "    # during the change, size rank will be none for a quick moment, use this to take care of that\n",
        "    if size_rank is not None:\n",
        "\n",
        "        plt_data = data[guru]\n",
        "        max_date = plt_data['quarter_end'].max()\n",
        "        latest_13F = plt_data[plt_data.quarter_end == max_date]\n",
        "\n",
        "        # get the latest quarter holding and rank it by size, then grab the security name\n",
        "        num_company=len(plt_data[plt_data['quarter_end'] == max_date])\n",
        "\n",
        "        if size_rank > num_company:\n",
        "            size_rank = num_company\n",
        "            size_rank = max(size_rank,2) # make the min to be 2 so the axes from the fig is always a numpy array\n",
        "\n",
        "\n",
        "        fig, axes = plt.subplots(size_rank, 1, figsize=(10, 4*size_rank), sharex=True)\n",
        "\n",
        "        for i in range(min(size_rank, num_company)): # if the company is 1, then only loop once\n",
        "            \n",
        "            rank = i + 1\n",
        "            \n",
        "            ticker = latest_13F.loc[latest_13F.quarterly_rank == rank, 'Ticker'].values[0]\n",
        "            percentage = latest_13F.loc[latest_13F.quarterly_rank == rank, 'quarterly_weight'].values[0]\n",
        "    \n",
        "            \n",
        "            # get the security data over time\n",
        "            security = plt_data[(plt_data.Ticker == ticker)]\n",
        "            \n",
        "            # width has to be set high otherwise, bars will not be visiable\n",
        "            axes[i].bar(security['quarter_end'].dt.date, security['shares'], label='Share', color='darkorange', width=30)\n",
        "            \n",
        "\n",
        "            axes2 = axes[i].twinx()\n",
        "            axes2.plot(security['quarter_end'].dt.date, security['share_price'], \n",
        "                       marker='o', label='Price', color='slateblue')\n",
        "            \n",
        "            # config the graph\n",
        "            axes[i].tick_params(axis='x', rotation=-45)\n",
        "            axes[i].xaxis.set_tick_params(which='both', labelbottom=True)\n",
        "            \n",
        "            axes[i].set_title('{} | {:.2%} of the {} rank {}'.format(ticker, percentage, guru, rank))\n",
        "            \n",
        "            axes[i].set_ylabel('Share Count', color='darkorange', fontweight='bold')\n",
        "            axes2.set_ylabel('Share Price', color='slateblue', fontweight='bold', rotation=270, labelpad=20)\n",
        "            \n",
        "            # set the y_lim, so small change will not show up as big change just due to the scale\n",
        "            axes[i].set_ylim(0, security['shares'].max()*1.2)\n",
        "            axes2.set_ylim(0, (security['share_price']).max()*1.2)\n",
        "\n",
        "            axes[i].legend(loc='upper left')\n",
        "            axes2.legend(loc='upper right')\n",
        "\n",
        "#             axes[i].xaxis.set_tick_params(labelbottom=True) # turn on the xlabels for all graph\n",
        "\n",
        "        fig.tight_layout()\n",
        "\n"
      ],
      "execution_count": null,
      "outputs": []
    },
    {
      "cell_type": "code",
      "metadata": {
        "scrolled": false,
        "id": "S93R5UgGvX5a"
      },
      "source": [
        "# creating the interactive drop down list\n",
        "investor = Dropdown(options=list(cik.keys()), value=list(cik.keys())[0], description='Guru')\n",
        "\n",
        "rank = Dropdown(options=range(5,51), value=5, description='Rank')\n",
        "\n",
        "\n",
        "interact(plot_holding, guru=investor, size_rank=rank);"
      ],
      "execution_count": null,
      "outputs": []
    }
  ]
}